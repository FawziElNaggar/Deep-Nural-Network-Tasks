{
  "nbformat": 4,
  "nbformat_minor": 0,
  "metadata": {
    "colab": {
      "name": "Assignment_4_Day1_ANN.ipynb",
      "provenance": [],
      "collapsed_sections": []
    },
    "kernelspec": {
      "name": "python3",
      "display_name": "Python 3"
    },
    "language_info": {
      "name": "python"
    }
  },
  "cells": [
    {
      "cell_type": "markdown",
      "metadata": {
        "id": "MVwj7t42pOGr"
      },
      "source": [
        "## Name : Fawzi abdelnaby elsayed\n",
        "## Group : One(Mansoura)\n",
        "## Assignment_4_Day_1"
      ]
    },
    {
      "cell_type": "code",
      "metadata": {
        "id": "JwFRDgtzpFnq"
      },
      "source": [
        "from tensorflow.keras.models import Sequential\n",
        "from tensorflow.keras.layers import Dense\n",
        "from sklearn.model_selection import train_test_split\n",
        "from sklearn.metrics import accuracy_score,classification_report,confusion_matrix\n",
        "import sklearn.metrics as metrics\n",
        "\n",
        "import pandas as pd\n",
        "import numpy as np\n",
        "import seaborn as sns\n",
        "import matplotlib.pyplot as plt\n",
        "import io"
      ],
      "execution_count": 1,
      "outputs": []
    },
    {
      "cell_type": "code",
      "metadata": {
        "colab": {
          "base_uri": "https://localhost:8080/",
          "height": 206
        },
        "id": "UaMPeRXYpWL_",
        "outputId": "22669f2e-5b7f-4e8d-98cc-db39f186ea52"
      },
      "source": [
        "data = pd.read_csv(\"pima-indians-diabetes.csv\",header=None)\n",
        "data.head(5)"
      ],
      "execution_count": 2,
      "outputs": [
        {
          "output_type": "execute_result",
          "data": {
            "text/html": [
              "<div>\n",
              "<style scoped>\n",
              "    .dataframe tbody tr th:only-of-type {\n",
              "        vertical-align: middle;\n",
              "    }\n",
              "\n",
              "    .dataframe tbody tr th {\n",
              "        vertical-align: top;\n",
              "    }\n",
              "\n",
              "    .dataframe thead th {\n",
              "        text-align: right;\n",
              "    }\n",
              "</style>\n",
              "<table border=\"1\" class=\"dataframe\">\n",
              "  <thead>\n",
              "    <tr style=\"text-align: right;\">\n",
              "      <th></th>\n",
              "      <th>0</th>\n",
              "      <th>1</th>\n",
              "      <th>2</th>\n",
              "      <th>3</th>\n",
              "      <th>4</th>\n",
              "      <th>5</th>\n",
              "      <th>6</th>\n",
              "      <th>7</th>\n",
              "      <th>8</th>\n",
              "    </tr>\n",
              "  </thead>\n",
              "  <tbody>\n",
              "    <tr>\n",
              "      <th>0</th>\n",
              "      <td>6</td>\n",
              "      <td>148</td>\n",
              "      <td>72</td>\n",
              "      <td>35</td>\n",
              "      <td>0</td>\n",
              "      <td>33.6</td>\n",
              "      <td>0.627</td>\n",
              "      <td>50</td>\n",
              "      <td>1</td>\n",
              "    </tr>\n",
              "    <tr>\n",
              "      <th>1</th>\n",
              "      <td>1</td>\n",
              "      <td>85</td>\n",
              "      <td>66</td>\n",
              "      <td>29</td>\n",
              "      <td>0</td>\n",
              "      <td>26.6</td>\n",
              "      <td>0.351</td>\n",
              "      <td>31</td>\n",
              "      <td>0</td>\n",
              "    </tr>\n",
              "    <tr>\n",
              "      <th>2</th>\n",
              "      <td>8</td>\n",
              "      <td>183</td>\n",
              "      <td>64</td>\n",
              "      <td>0</td>\n",
              "      <td>0</td>\n",
              "      <td>23.3</td>\n",
              "      <td>0.672</td>\n",
              "      <td>32</td>\n",
              "      <td>1</td>\n",
              "    </tr>\n",
              "    <tr>\n",
              "      <th>3</th>\n",
              "      <td>1</td>\n",
              "      <td>89</td>\n",
              "      <td>66</td>\n",
              "      <td>23</td>\n",
              "      <td>94</td>\n",
              "      <td>28.1</td>\n",
              "      <td>0.167</td>\n",
              "      <td>21</td>\n",
              "      <td>0</td>\n",
              "    </tr>\n",
              "    <tr>\n",
              "      <th>4</th>\n",
              "      <td>0</td>\n",
              "      <td>137</td>\n",
              "      <td>40</td>\n",
              "      <td>35</td>\n",
              "      <td>168</td>\n",
              "      <td>43.1</td>\n",
              "      <td>2.288</td>\n",
              "      <td>33</td>\n",
              "      <td>1</td>\n",
              "    </tr>\n",
              "  </tbody>\n",
              "</table>\n",
              "</div>"
            ],
            "text/plain": [
              "   0    1   2   3    4     5      6   7  8\n",
              "0  6  148  72  35    0  33.6  0.627  50  1\n",
              "1  1   85  66  29    0  26.6  0.351  31  0\n",
              "2  8  183  64   0    0  23.3  0.672  32  1\n",
              "3  1   89  66  23   94  28.1  0.167  21  0\n",
              "4  0  137  40  35  168  43.1  2.288  33  1"
            ]
          },
          "metadata": {},
          "execution_count": 2
        }
      ]
    },
    {
      "cell_type": "code",
      "metadata": {
        "id": "jGLm1mXSpY_L"
      },
      "source": [
        "import numpy as np\n",
        "\n",
        "labels=data.iloc[:,8]\n",
        "features = data.iloc[:,0:8]\n",
        "\n",
        "X=features\n",
        "y=np.ravel(labels)\n",
        "\n",
        "X_train, X_test, y_train, y_test = train_test_split(X, y, test_size=0.20, random_state=42) "
      ],
      "execution_count": 3,
      "outputs": []
    },
    {
      "cell_type": "markdown",
      "metadata": {
        "id": "mnV4Nd7lpyol"
      },
      "source": [
        "## shallow: 1 hidden, output layer"
      ]
    },
    {
      "cell_type": "code",
      "metadata": {
        "id": "KngontqSpsMH"
      },
      "source": [
        "model = Sequential()\n",
        "# one hidden layer\n",
        "model.add(Dense(4, activation='relu', input_shape=(8,),name='hidden1'))\n",
        "# output layer\n",
        "model.add(Dense(1, activation='sigmoid',name='output'))"
      ],
      "execution_count": 4,
      "outputs": []
    },
    {
      "cell_type": "code",
      "metadata": {
        "colab": {
          "base_uri": "https://localhost:8080/"
        },
        "id": "cSFsClkkp555",
        "outputId": "d0b5f0db-72ec-4f2b-b496-9cbd3e542cb7"
      },
      "source": [
        "model.layers"
      ],
      "execution_count": 5,
      "outputs": [
        {
          "output_type": "execute_result",
          "data": {
            "text/plain": [
              "[<keras.layers.core.dense.Dense at 0x7f513034a390>,\n",
              " <keras.layers.core.dense.Dense at 0x7f5130afce50>]"
            ]
          },
          "metadata": {},
          "execution_count": 5
        }
      ]
    },
    {
      "cell_type": "code",
      "metadata": {
        "colab": {
          "base_uri": "https://localhost:8080/"
        },
        "id": "_R_O008Lp8HG",
        "outputId": "8a9b174c-dd52-40f6-9e53-b21987843d1f"
      },
      "source": [
        "model.compile(loss='binary_crossentropy',\n",
        "              optimizer='adam',\n",
        "              metrics=['accuracy'])\n",
        "\n",
        "# fit Model                  \n",
        "history=model.fit(X_train, y_train,epochs=150, batch_size=32)"
      ],
      "execution_count": 6,
      "outputs": [
        {
          "output_type": "stream",
          "name": "stdout",
          "text": [
            "Epoch 1/150\n",
            "20/20 [==============================] - 1s 2ms/step - loss: 22.4920 - accuracy: 0.3697\n",
            "Epoch 2/150\n",
            "20/20 [==============================] - 0s 2ms/step - loss: 16.9394 - accuracy: 0.4039\n",
            "Epoch 3/150\n",
            "20/20 [==============================] - 0s 2ms/step - loss: 12.8170 - accuracy: 0.4104\n",
            "Epoch 4/150\n",
            "20/20 [==============================] - 0s 2ms/step - loss: 10.2127 - accuracy: 0.4283\n",
            "Epoch 5/150\n",
            "20/20 [==============================] - 0s 1ms/step - loss: 8.4446 - accuracy: 0.4593\n",
            "Epoch 6/150\n",
            "20/20 [==============================] - 0s 2ms/step - loss: 7.2337 - accuracy: 0.4886\n",
            "Epoch 7/150\n",
            "20/20 [==============================] - 0s 2ms/step - loss: 6.3223 - accuracy: 0.5228\n",
            "Epoch 8/150\n",
            "20/20 [==============================] - 0s 2ms/step - loss: 5.6025 - accuracy: 0.5407\n",
            "Epoch 9/150\n",
            "20/20 [==============================] - 0s 2ms/step - loss: 5.0143 - accuracy: 0.5717\n",
            "Epoch 10/150\n",
            "20/20 [==============================] - 0s 2ms/step - loss: 4.4984 - accuracy: 0.5765\n",
            "Epoch 11/150\n",
            "20/20 [==============================] - 0s 2ms/step - loss: 4.0688 - accuracy: 0.6010\n",
            "Epoch 12/150\n",
            "20/20 [==============================] - 0s 2ms/step - loss: 3.6554 - accuracy: 0.6010\n",
            "Epoch 13/150\n",
            "20/20 [==============================] - 0s 2ms/step - loss: 3.3214 - accuracy: 0.5847\n",
            "Epoch 14/150\n",
            "20/20 [==============================] - 0s 2ms/step - loss: 3.0114 - accuracy: 0.5993\n",
            "Epoch 15/150\n",
            "20/20 [==============================] - 0s 2ms/step - loss: 2.7391 - accuracy: 0.6091\n",
            "Epoch 16/150\n",
            "20/20 [==============================] - 0s 2ms/step - loss: 2.4959 - accuracy: 0.6107\n",
            "Epoch 17/150\n",
            "20/20 [==============================] - 0s 2ms/step - loss: 2.2543 - accuracy: 0.6221\n",
            "Epoch 18/150\n",
            "20/20 [==============================] - 0s 2ms/step - loss: 2.0163 - accuracy: 0.6287\n",
            "Epoch 19/150\n",
            "20/20 [==============================] - 0s 2ms/step - loss: 1.7914 - accuracy: 0.6417\n",
            "Epoch 20/150\n",
            "20/20 [==============================] - 0s 2ms/step - loss: 1.6238 - accuracy: 0.6450\n",
            "Epoch 21/150\n",
            "20/20 [==============================] - 0s 2ms/step - loss: 1.4878 - accuracy: 0.6384\n",
            "Epoch 22/150\n",
            "20/20 [==============================] - 0s 2ms/step - loss: 1.3561 - accuracy: 0.6401\n",
            "Epoch 23/150\n",
            "20/20 [==============================] - 0s 2ms/step - loss: 1.2605 - accuracy: 0.6498\n",
            "Epoch 24/150\n",
            "20/20 [==============================] - 0s 2ms/step - loss: 1.1866 - accuracy: 0.6482\n",
            "Epoch 25/150\n",
            "20/20 [==============================] - 0s 3ms/step - loss: 1.1305 - accuracy: 0.6564\n",
            "Epoch 26/150\n",
            "20/20 [==============================] - 0s 2ms/step - loss: 1.0773 - accuracy: 0.6564\n",
            "Epoch 27/150\n",
            "20/20 [==============================] - 0s 2ms/step - loss: 1.0324 - accuracy: 0.6612\n",
            "Epoch 28/150\n",
            "20/20 [==============================] - 0s 2ms/step - loss: 0.9887 - accuracy: 0.6580\n",
            "Epoch 29/150\n",
            "20/20 [==============================] - 0s 2ms/step - loss: 0.9592 - accuracy: 0.6596\n",
            "Epoch 30/150\n",
            "20/20 [==============================] - 0s 2ms/step - loss: 0.9308 - accuracy: 0.6629\n",
            "Epoch 31/150\n",
            "20/20 [==============================] - 0s 2ms/step - loss: 0.9106 - accuracy: 0.6612\n",
            "Epoch 32/150\n",
            "20/20 [==============================] - 0s 2ms/step - loss: 0.8882 - accuracy: 0.6596\n",
            "Epoch 33/150\n",
            "20/20 [==============================] - 0s 2ms/step - loss: 0.8680 - accuracy: 0.6629\n",
            "Epoch 34/150\n",
            "20/20 [==============================] - 0s 2ms/step - loss: 0.8519 - accuracy: 0.6645\n",
            "Epoch 35/150\n",
            "20/20 [==============================] - 0s 2ms/step - loss: 0.8385 - accuracy: 0.6645\n",
            "Epoch 36/150\n",
            "20/20 [==============================] - 0s 2ms/step - loss: 0.8241 - accuracy: 0.6629\n",
            "Epoch 37/150\n",
            "20/20 [==============================] - 0s 2ms/step - loss: 0.8119 - accuracy: 0.6629\n",
            "Epoch 38/150\n",
            "20/20 [==============================] - 0s 2ms/step - loss: 0.8003 - accuracy: 0.6596\n",
            "Epoch 39/150\n",
            "20/20 [==============================] - 0s 2ms/step - loss: 0.7919 - accuracy: 0.6612\n",
            "Epoch 40/150\n",
            "20/20 [==============================] - 0s 2ms/step - loss: 0.7830 - accuracy: 0.6629\n",
            "Epoch 41/150\n",
            "20/20 [==============================] - 0s 2ms/step - loss: 0.7747 - accuracy: 0.6612\n",
            "Epoch 42/150\n",
            "20/20 [==============================] - 0s 2ms/step - loss: 0.7675 - accuracy: 0.6612\n",
            "Epoch 43/150\n",
            "20/20 [==============================] - 0s 2ms/step - loss: 0.7615 - accuracy: 0.6629\n",
            "Epoch 44/150\n",
            "20/20 [==============================] - 0s 2ms/step - loss: 0.7552 - accuracy: 0.6645\n",
            "Epoch 45/150\n",
            "20/20 [==============================] - 0s 2ms/step - loss: 0.7508 - accuracy: 0.6645\n",
            "Epoch 46/150\n",
            "20/20 [==============================] - 0s 2ms/step - loss: 0.7465 - accuracy: 0.6645\n",
            "Epoch 47/150\n",
            "20/20 [==============================] - 0s 2ms/step - loss: 0.7400 - accuracy: 0.6645\n",
            "Epoch 48/150\n",
            "20/20 [==============================] - 0s 2ms/step - loss: 0.7408 - accuracy: 0.6678\n",
            "Epoch 49/150\n",
            "20/20 [==============================] - 0s 2ms/step - loss: 0.7352 - accuracy: 0.6661\n",
            "Epoch 50/150\n",
            "20/20 [==============================] - 0s 2ms/step - loss: 0.7332 - accuracy: 0.6661\n",
            "Epoch 51/150\n",
            "20/20 [==============================] - 0s 2ms/step - loss: 0.7306 - accuracy: 0.6661\n",
            "Epoch 52/150\n",
            "20/20 [==============================] - 0s 2ms/step - loss: 0.7293 - accuracy: 0.6645\n",
            "Epoch 53/150\n",
            "20/20 [==============================] - 0s 2ms/step - loss: 0.7260 - accuracy: 0.6678\n",
            "Epoch 54/150\n",
            "20/20 [==============================] - 0s 2ms/step - loss: 0.7235 - accuracy: 0.6678\n",
            "Epoch 55/150\n",
            "20/20 [==============================] - 0s 2ms/step - loss: 0.7206 - accuracy: 0.6678\n",
            "Epoch 56/150\n",
            "20/20 [==============================] - 0s 2ms/step - loss: 0.7195 - accuracy: 0.6678\n",
            "Epoch 57/150\n",
            "20/20 [==============================] - 0s 2ms/step - loss: 0.7174 - accuracy: 0.6678\n",
            "Epoch 58/150\n",
            "20/20 [==============================] - 0s 2ms/step - loss: 0.7153 - accuracy: 0.6678\n",
            "Epoch 59/150\n",
            "20/20 [==============================] - 0s 2ms/step - loss: 0.7162 - accuracy: 0.6645\n",
            "Epoch 60/150\n",
            "20/20 [==============================] - 0s 2ms/step - loss: 0.7140 - accuracy: 0.6629\n",
            "Epoch 61/150\n",
            "20/20 [==============================] - 0s 2ms/step - loss: 0.7104 - accuracy: 0.6629\n",
            "Epoch 62/150\n",
            "20/20 [==============================] - 0s 2ms/step - loss: 0.7091 - accuracy: 0.6661\n",
            "Epoch 63/150\n",
            "20/20 [==============================] - 0s 2ms/step - loss: 0.7054 - accuracy: 0.6661\n",
            "Epoch 64/150\n",
            "20/20 [==============================] - 0s 2ms/step - loss: 0.7043 - accuracy: 0.6645\n",
            "Epoch 65/150\n",
            "20/20 [==============================] - 0s 2ms/step - loss: 0.7054 - accuracy: 0.6645\n",
            "Epoch 66/150\n",
            "20/20 [==============================] - 0s 2ms/step - loss: 0.7009 - accuracy: 0.6645\n",
            "Epoch 67/150\n",
            "20/20 [==============================] - 0s 2ms/step - loss: 0.7002 - accuracy: 0.6645\n",
            "Epoch 68/150\n",
            "20/20 [==============================] - 0s 2ms/step - loss: 0.6984 - accuracy: 0.6645\n",
            "Epoch 69/150\n",
            "20/20 [==============================] - 0s 2ms/step - loss: 0.6983 - accuracy: 0.6645\n",
            "Epoch 70/150\n",
            "20/20 [==============================] - 0s 2ms/step - loss: 0.6976 - accuracy: 0.6645\n",
            "Epoch 71/150\n",
            "20/20 [==============================] - 0s 2ms/step - loss: 0.6965 - accuracy: 0.6629\n",
            "Epoch 72/150\n",
            "20/20 [==============================] - 0s 2ms/step - loss: 0.6941 - accuracy: 0.6629\n",
            "Epoch 73/150\n",
            "20/20 [==============================] - 0s 2ms/step - loss: 0.6922 - accuracy: 0.6645\n",
            "Epoch 74/150\n",
            "20/20 [==============================] - 0s 2ms/step - loss: 0.6915 - accuracy: 0.6645\n",
            "Epoch 75/150\n",
            "20/20 [==============================] - 0s 2ms/step - loss: 0.6891 - accuracy: 0.6694\n",
            "Epoch 76/150\n",
            "20/20 [==============================] - 0s 2ms/step - loss: 0.6931 - accuracy: 0.6678\n",
            "Epoch 77/150\n",
            "20/20 [==============================] - 0s 2ms/step - loss: 0.6884 - accuracy: 0.6694\n",
            "Epoch 78/150\n",
            "20/20 [==============================] - 0s 2ms/step - loss: 0.6887 - accuracy: 0.6661\n",
            "Epoch 79/150\n",
            "20/20 [==============================] - 0s 2ms/step - loss: 0.6855 - accuracy: 0.6678\n",
            "Epoch 80/150\n",
            "20/20 [==============================] - 0s 2ms/step - loss: 0.6838 - accuracy: 0.6661\n",
            "Epoch 81/150\n",
            "20/20 [==============================] - 0s 2ms/step - loss: 0.6826 - accuracy: 0.6645\n",
            "Epoch 82/150\n",
            "20/20 [==============================] - 0s 2ms/step - loss: 0.6810 - accuracy: 0.6645\n",
            "Epoch 83/150\n",
            "20/20 [==============================] - 0s 2ms/step - loss: 0.6801 - accuracy: 0.6661\n",
            "Epoch 84/150\n",
            "20/20 [==============================] - 0s 2ms/step - loss: 0.6792 - accuracy: 0.6678\n",
            "Epoch 85/150\n",
            "20/20 [==============================] - 0s 2ms/step - loss: 0.6779 - accuracy: 0.6661\n",
            "Epoch 86/150\n",
            "20/20 [==============================] - 0s 2ms/step - loss: 0.6773 - accuracy: 0.6678\n",
            "Epoch 87/150\n",
            "20/20 [==============================] - 0s 2ms/step - loss: 0.6763 - accuracy: 0.6678\n",
            "Epoch 88/150\n",
            "20/20 [==============================] - 0s 2ms/step - loss: 0.6750 - accuracy: 0.6694\n",
            "Epoch 89/150\n",
            "20/20 [==============================] - 0s 2ms/step - loss: 0.6735 - accuracy: 0.6678\n",
            "Epoch 90/150\n",
            "20/20 [==============================] - 0s 2ms/step - loss: 0.6735 - accuracy: 0.6710\n",
            "Epoch 91/150\n",
            "20/20 [==============================] - 0s 1ms/step - loss: 0.6741 - accuracy: 0.6694\n",
            "Epoch 92/150\n",
            "20/20 [==============================] - 0s 2ms/step - loss: 0.6715 - accuracy: 0.6694\n",
            "Epoch 93/150\n",
            "20/20 [==============================] - 0s 2ms/step - loss: 0.6689 - accuracy: 0.6710\n",
            "Epoch 94/150\n",
            "20/20 [==============================] - 0s 2ms/step - loss: 0.6681 - accuracy: 0.6710\n",
            "Epoch 95/150\n",
            "20/20 [==============================] - 0s 2ms/step - loss: 0.6668 - accuracy: 0.6710\n",
            "Epoch 96/150\n",
            "20/20 [==============================] - 0s 2ms/step - loss: 0.6656 - accuracy: 0.6743\n",
            "Epoch 97/150\n",
            "20/20 [==============================] - 0s 2ms/step - loss: 0.6657 - accuracy: 0.6743\n",
            "Epoch 98/150\n",
            "20/20 [==============================] - 0s 2ms/step - loss: 0.6645 - accuracy: 0.6726\n",
            "Epoch 99/150\n",
            "20/20 [==============================] - 0s 2ms/step - loss: 0.6620 - accuracy: 0.6743\n",
            "Epoch 100/150\n",
            "20/20 [==============================] - 0s 2ms/step - loss: 0.6622 - accuracy: 0.6743\n",
            "Epoch 101/150\n",
            "20/20 [==============================] - 0s 2ms/step - loss: 0.6602 - accuracy: 0.6726\n",
            "Epoch 102/150\n",
            "20/20 [==============================] - 0s 2ms/step - loss: 0.6593 - accuracy: 0.6694\n",
            "Epoch 103/150\n",
            "20/20 [==============================] - 0s 2ms/step - loss: 0.6586 - accuracy: 0.6678\n",
            "Epoch 104/150\n",
            "20/20 [==============================] - 0s 2ms/step - loss: 0.6594 - accuracy: 0.6678\n",
            "Epoch 105/150\n",
            "20/20 [==============================] - 0s 2ms/step - loss: 0.6591 - accuracy: 0.6726\n",
            "Epoch 106/150\n",
            "20/20 [==============================] - 0s 2ms/step - loss: 0.6566 - accuracy: 0.6726\n",
            "Epoch 107/150\n",
            "20/20 [==============================] - 0s 2ms/step - loss: 0.6554 - accuracy: 0.6710\n",
            "Epoch 108/150\n",
            "20/20 [==============================] - 0s 2ms/step - loss: 0.6550 - accuracy: 0.6726\n",
            "Epoch 109/150\n",
            "20/20 [==============================] - 0s 2ms/step - loss: 0.6553 - accuracy: 0.6710\n",
            "Epoch 110/150\n",
            "20/20 [==============================] - 0s 2ms/step - loss: 0.6542 - accuracy: 0.6694\n",
            "Epoch 111/150\n",
            "20/20 [==============================] - 0s 2ms/step - loss: 0.6522 - accuracy: 0.6694\n",
            "Epoch 112/150\n",
            "20/20 [==============================] - 0s 2ms/step - loss: 0.6516 - accuracy: 0.6726\n",
            "Epoch 113/150\n",
            "20/20 [==============================] - 0s 2ms/step - loss: 0.6518 - accuracy: 0.6726\n",
            "Epoch 114/150\n",
            "20/20 [==============================] - 0s 2ms/step - loss: 0.6517 - accuracy: 0.6726\n",
            "Epoch 115/150\n",
            "20/20 [==============================] - 0s 1ms/step - loss: 0.6508 - accuracy: 0.6743\n",
            "Epoch 116/150\n",
            "20/20 [==============================] - 0s 2ms/step - loss: 0.6506 - accuracy: 0.6694\n",
            "Epoch 117/150\n",
            "20/20 [==============================] - 0s 2ms/step - loss: 0.6495 - accuracy: 0.6710\n",
            "Epoch 118/150\n",
            "20/20 [==============================] - 0s 2ms/step - loss: 0.6476 - accuracy: 0.6710\n",
            "Epoch 119/150\n",
            "20/20 [==============================] - 0s 2ms/step - loss: 0.6473 - accuracy: 0.6726\n",
            "Epoch 120/150\n",
            "20/20 [==============================] - 0s 2ms/step - loss: 0.6468 - accuracy: 0.6743\n",
            "Epoch 121/150\n",
            "20/20 [==============================] - 0s 2ms/step - loss: 0.6474 - accuracy: 0.6726\n",
            "Epoch 122/150\n",
            "20/20 [==============================] - 0s 2ms/step - loss: 0.6462 - accuracy: 0.6759\n",
            "Epoch 123/150\n",
            "20/20 [==============================] - 0s 2ms/step - loss: 0.6459 - accuracy: 0.6743\n",
            "Epoch 124/150\n",
            "20/20 [==============================] - 0s 2ms/step - loss: 0.6461 - accuracy: 0.6743\n",
            "Epoch 125/150\n",
            "20/20 [==============================] - 0s 2ms/step - loss: 0.6447 - accuracy: 0.6726\n",
            "Epoch 126/150\n",
            "20/20 [==============================] - 0s 2ms/step - loss: 0.6449 - accuracy: 0.6759\n",
            "Epoch 127/150\n",
            "20/20 [==============================] - 0s 2ms/step - loss: 0.6447 - accuracy: 0.6743\n",
            "Epoch 128/150\n",
            "20/20 [==============================] - 0s 2ms/step - loss: 0.6436 - accuracy: 0.6759\n",
            "Epoch 129/150\n",
            "20/20 [==============================] - 0s 2ms/step - loss: 0.6427 - accuracy: 0.6759\n",
            "Epoch 130/150\n",
            "20/20 [==============================] - 0s 2ms/step - loss: 0.6419 - accuracy: 0.6759\n",
            "Epoch 131/150\n",
            "20/20 [==============================] - 0s 2ms/step - loss: 0.6431 - accuracy: 0.6743\n",
            "Epoch 132/150\n",
            "20/20 [==============================] - 0s 2ms/step - loss: 0.6422 - accuracy: 0.6743\n",
            "Epoch 133/150\n",
            "20/20 [==============================] - 0s 2ms/step - loss: 0.6419 - accuracy: 0.6775\n",
            "Epoch 134/150\n",
            "20/20 [==============================] - 0s 2ms/step - loss: 0.6408 - accuracy: 0.6775\n",
            "Epoch 135/150\n",
            "20/20 [==============================] - 0s 2ms/step - loss: 0.6424 - accuracy: 0.6775\n",
            "Epoch 136/150\n",
            "20/20 [==============================] - 0s 2ms/step - loss: 0.6414 - accuracy: 0.6775\n",
            "Epoch 137/150\n",
            "20/20 [==============================] - 0s 2ms/step - loss: 0.6383 - accuracy: 0.6775\n",
            "Epoch 138/150\n",
            "20/20 [==============================] - 0s 2ms/step - loss: 0.6399 - accuracy: 0.6775\n",
            "Epoch 139/150\n",
            "20/20 [==============================] - 0s 2ms/step - loss: 0.6397 - accuracy: 0.6775\n",
            "Epoch 140/150\n",
            "20/20 [==============================] - 0s 2ms/step - loss: 0.6384 - accuracy: 0.6775\n",
            "Epoch 141/150\n",
            "20/20 [==============================] - 0s 2ms/step - loss: 0.6403 - accuracy: 0.6775\n",
            "Epoch 142/150\n",
            "20/20 [==============================] - 0s 2ms/step - loss: 0.6395 - accuracy: 0.6775\n",
            "Epoch 143/150\n",
            "20/20 [==============================] - 0s 2ms/step - loss: 0.6376 - accuracy: 0.6775\n",
            "Epoch 144/150\n",
            "20/20 [==============================] - 0s 2ms/step - loss: 0.6375 - accuracy: 0.6792\n",
            "Epoch 145/150\n",
            "20/20 [==============================] - 0s 2ms/step - loss: 0.6367 - accuracy: 0.6775\n",
            "Epoch 146/150\n",
            "20/20 [==============================] - 0s 2ms/step - loss: 0.6359 - accuracy: 0.6775\n",
            "Epoch 147/150\n",
            "20/20 [==============================] - 0s 2ms/step - loss: 0.6358 - accuracy: 0.6775\n",
            "Epoch 148/150\n",
            "20/20 [==============================] - 0s 2ms/step - loss: 0.6357 - accuracy: 0.6775\n",
            "Epoch 149/150\n",
            "20/20 [==============================] - 0s 2ms/step - loss: 0.6362 - accuracy: 0.6775\n",
            "Epoch 150/150\n",
            "20/20 [==============================] - 0s 2ms/step - loss: 0.6363 - accuracy: 0.6792\n"
          ]
        }
      ]
    },
    {
      "cell_type": "code",
      "metadata": {
        "colab": {
          "base_uri": "https://localhost:8080/"
        },
        "id": "cdp2D0JxqOpH",
        "outputId": "d3dfc9eb-4187-45d8-9199-1da848e07c17"
      },
      "source": [
        "_,accurecy_train=model.evaluate(X_train,y_train)\n",
        "_,accurecy_test=model.evaluate(X_test,y_test)\n",
        "print(\"accurecy_train: \", accurecy_train*100)\n",
        "print(\"accurecy_test: \", accurecy_test*100)"
      ],
      "execution_count": 7,
      "outputs": [
        {
          "output_type": "stream",
          "name": "stdout",
          "text": [
            "20/20 [==============================] - 0s 2ms/step - loss: 0.6342 - accuracy: 0.6775\n",
            "5/5 [==============================] - 0s 2ms/step - loss: 0.6640 - accuracy: 0.6883\n",
            "accurecy_train:  67.75244474411011\n",
            "accurecy_test:  68.83116960525513\n"
          ]
        }
      ]
    },
    {
      "cell_type": "markdown",
      "metadata": {
        "id": "HUU2R7bCq1UW"
      },
      "source": [
        "### plot accurecy and loss curve"
      ]
    },
    {
      "cell_type": "code",
      "metadata": {
        "colab": {
          "base_uri": "https://localhost:8080/",
          "height": 320
        },
        "id": "WHQLGWb8qq73",
        "outputId": "ccf17fbb-d9fd-4254-f39d-20105177c27b"
      },
      "source": [
        "learning_data = pd.DataFrame(history.history)\n",
        "learning_data.plot(figsize=(10,5))\n",
        "plt.grid(True)\n",
        "plt.show()"
      ],
      "execution_count": 8,
      "outputs": [
        {
          "output_type": "display_data",
          "data": {
            "image/png": "[encoded data removed]",
            "text/plain": [
              "<Figure size 720x360 with 1 Axes>"
            ]
          },
          "metadata": {
            "needs_background": "light"
          }
        }
      ]
    },
    {
      "cell_type": "markdown",
      "metadata": {
        "id": "Yh7cZO5xtBqD"
      },
      "source": [
        "### Calculate Accurecy & Confusion Matrix"
      ]
    },
    {
      "cell_type": "code",
      "metadata": {
        "colab": {
          "base_uri": "https://localhost:8080/",
          "height": 309
        },
        "id": "P1pT0v16tBxl",
        "outputId": "b92dbc32-631f-481c-ff5c-e3769f7000ed"
      },
      "source": [
        "y_pred = model.predict(X_test)\n",
        "y_pred = (y_pred > 0.5)\n",
        "plt.figure(figsize=(5,5))\n",
        "cm = metrics.confusion_matrix(y_test, y_pred)\n",
        "accuracy = (cm[0][0]+cm[1][1])/(cm[0][0]+cm[0][1]+cm[1][0]+cm[1][1])\n",
        "sns.heatmap(cm, annot=True, fmt=\".3f\", linewidths=.5, square = True, cmap = 'Blues_r');\n",
        "plt.ylabel('Actual label');\n",
        "plt.xlabel('Predicted label');\n",
        "all_sample_title = 'Accuracy Score: {0}'.format(str(accuracy*100))\n",
        "plt.title(all_sample_title, size = 13);"
      ],
      "execution_count": 10,
      "outputs": [
        {
          "output_type": "display_data",
          "data": {
            "image/png": "[encoded data removed]",
            "text/plain": [
              "<Figure size 360x360 with 2 Axes>"
            ]
          },
          "metadata": {
            "needs_background": "light"
          }
        }
      ]
    },
    {
      "cell_type": "markdown",
      "metadata": {
        "id": "q_27ztZZq52K"
      },
      "source": [
        "## Two hidden layers with 12 and 8 nodes respectively"
      ]
    },
    {
      "cell_type": "code",
      "metadata": {
        "id": "KKw2NfONq4Er"
      },
      "source": [
        "model = Sequential()\n",
        "# Two hidden layers\n",
        "model.add(Dense(12, activation='relu', input_shape=(8,),name='hidden1'))\n",
        "model.add(Dense(8, activation='relu',name='hidden2'))\n",
        "# output layer\n",
        "model.add(Dense(1, activation='sigmoid',name='output'))"
      ],
      "execution_count": 11,
      "outputs": []
    },
    {
      "cell_type": "code",
      "metadata": {
        "colab": {
          "base_uri": "https://localhost:8080/"
        },
        "id": "xNq1_NI3q_O3",
        "outputId": "fa8f4aab-79c9-40d6-d5fc-4701f12336f6"
      },
      "source": [
        "model.layers"
      ],
      "execution_count": 12,
      "outputs": [
        {
          "output_type": "execute_result",
          "data": {
            "text/plain": [
              "[<keras.layers.core.dense.Dense at 0x7f512ba38110>,\n",
              " <keras.layers.core.dense.Dense at 0x7f512c28bb10>,\n",
              " <keras.layers.core.dense.Dense at 0x7f512ba2f250>]"
            ]
          },
          "metadata": {},
          "execution_count": 12
        }
      ]
    },
    {
      "cell_type": "code",
      "metadata": {
        "colab": {
          "base_uri": "https://localhost:8080/"
        },
        "id": "C3M7eOhtrAqd",
        "outputId": "f9225442-738e-4f6a-f1c6-7d127b7d3b45"
      },
      "source": [
        "model.compile(loss='binary_crossentropy',\n",
        "              optimizer='adam',\n",
        "              metrics=['accuracy'])\n",
        "# Fit Model                   \n",
        "history=model.fit(X_train, y_train,epochs=150, batch_size=32)"
      ],
      "execution_count": 13,
      "outputs": [
        {
          "output_type": "stream",
          "name": "stdout",
          "text": [
            "Epoch 1/150\n",
            "20/20 [==============================] - 0s 2ms/step - loss: 8.2054 - accuracy: 0.4283\n",
            "Epoch 2/150\n",
            "20/20 [==============================] - 0s 2ms/step - loss: 4.8019 - accuracy: 0.5277\n",
            "Epoch 3/150\n",
            "20/20 [==============================] - 0s 2ms/step - loss: 3.0483 - accuracy: 0.5603\n",
            "Epoch 4/150\n",
            "20/20 [==============================] - 0s 2ms/step - loss: 2.1631 - accuracy: 0.5261\n",
            "Epoch 5/150\n",
            "20/20 [==============================] - 0s 2ms/step - loss: 1.9085 - accuracy: 0.5391\n",
            "Epoch 6/150\n",
            "20/20 [==============================] - 0s 2ms/step - loss: 1.6943 - accuracy: 0.5114\n",
            "Epoch 7/150\n",
            "20/20 [==============================] - 0s 2ms/step - loss: 1.5599 - accuracy: 0.5309\n",
            "Epoch 8/150\n",
            "20/20 [==============================] - 0s 2ms/step - loss: 1.4402 - accuracy: 0.5342\n",
            "Epoch 9/150\n",
            "20/20 [==============================] - 0s 2ms/step - loss: 1.3226 - accuracy: 0.5603\n",
            "Epoch 10/150\n",
            "20/20 [==============================] - 0s 2ms/step - loss: 1.2727 - accuracy: 0.5212\n",
            "Epoch 11/150\n",
            "20/20 [==============================] - 0s 2ms/step - loss: 1.1490 - accuracy: 0.5554\n",
            "Epoch 12/150\n",
            "20/20 [==============================] - 0s 2ms/step - loss: 1.1484 - accuracy: 0.5554\n",
            "Epoch 13/150\n",
            "20/20 [==============================] - 0s 2ms/step - loss: 1.1043 - accuracy: 0.5326\n",
            "Epoch 14/150\n",
            "20/20 [==============================] - 0s 2ms/step - loss: 1.0570 - accuracy: 0.5945\n",
            "Epoch 15/150\n",
            "20/20 [==============================] - 0s 2ms/step - loss: 0.9986 - accuracy: 0.5814\n",
            "Epoch 16/150\n",
            "20/20 [==============================] - 0s 1ms/step - loss: 0.9596 - accuracy: 0.5798\n",
            "Epoch 17/150\n",
            "20/20 [==============================] - 0s 2ms/step - loss: 0.9682 - accuracy: 0.5537\n",
            "Epoch 18/150\n",
            "20/20 [==============================] - 0s 2ms/step - loss: 0.8992 - accuracy: 0.5684\n",
            "Epoch 19/150\n",
            "20/20 [==============================] - 0s 2ms/step - loss: 0.8806 - accuracy: 0.5798\n",
            "Epoch 20/150\n",
            "20/20 [==============================] - 0s 2ms/step - loss: 0.8654 - accuracy: 0.5765\n",
            "Epoch 21/150\n",
            "20/20 [==============================] - 0s 2ms/step - loss: 0.8494 - accuracy: 0.6026\n",
            "Epoch 22/150\n",
            "20/20 [==============================] - 0s 2ms/step - loss: 0.8300 - accuracy: 0.5879\n",
            "Epoch 23/150\n",
            "20/20 [==============================] - 0s 2ms/step - loss: 0.8217 - accuracy: 0.6042\n",
            "Epoch 24/150\n",
            "20/20 [==============================] - 0s 2ms/step - loss: 0.8037 - accuracy: 0.5896\n",
            "Epoch 25/150\n",
            "20/20 [==============================] - 0s 2ms/step - loss: 0.8053 - accuracy: 0.6124\n",
            "Epoch 26/150\n",
            "20/20 [==============================] - 0s 2ms/step - loss: 0.8031 - accuracy: 0.6010\n",
            "Epoch 27/150\n",
            "20/20 [==============================] - 0s 2ms/step - loss: 0.7901 - accuracy: 0.6124\n",
            "Epoch 28/150\n",
            "20/20 [==============================] - 0s 2ms/step - loss: 0.7633 - accuracy: 0.6107\n",
            "Epoch 29/150\n",
            "20/20 [==============================] - 0s 2ms/step - loss: 0.7682 - accuracy: 0.6010\n",
            "Epoch 30/150\n",
            "20/20 [==============================] - 0s 2ms/step - loss: 0.7675 - accuracy: 0.6270\n",
            "Epoch 31/150\n",
            "20/20 [==============================] - 0s 2ms/step - loss: 0.7513 - accuracy: 0.6059\n",
            "Epoch 32/150\n",
            "20/20 [==============================] - 0s 2ms/step - loss: 0.7554 - accuracy: 0.6270\n",
            "Epoch 33/150\n",
            "20/20 [==============================] - 0s 2ms/step - loss: 0.7323 - accuracy: 0.6384\n",
            "Epoch 34/150\n",
            "20/20 [==============================] - 0s 2ms/step - loss: 0.7633 - accuracy: 0.6091\n",
            "Epoch 35/150\n",
            "20/20 [==============================] - 0s 2ms/step - loss: 0.7276 - accuracy: 0.6287\n",
            "Epoch 36/150\n",
            "20/20 [==============================] - 0s 2ms/step - loss: 0.7210 - accuracy: 0.6238\n",
            "Epoch 37/150\n",
            "20/20 [==============================] - 0s 2ms/step - loss: 0.7135 - accuracy: 0.6107\n",
            "Epoch 38/150\n",
            "20/20 [==============================] - 0s 2ms/step - loss: 0.7131 - accuracy: 0.6466\n",
            "Epoch 39/150\n",
            "20/20 [==============================] - 0s 2ms/step - loss: 0.7119 - accuracy: 0.6287\n",
            "Epoch 40/150\n",
            "20/20 [==============================] - 0s 2ms/step - loss: 0.7510 - accuracy: 0.6694\n",
            "Epoch 41/150\n",
            "20/20 [==============================] - 0s 2ms/step - loss: 0.7235 - accuracy: 0.6238\n",
            "Epoch 42/150\n",
            "20/20 [==============================] - 0s 2ms/step - loss: 0.6977 - accuracy: 0.6564\n",
            "Epoch 43/150\n",
            "20/20 [==============================] - 0s 2ms/step - loss: 0.7035 - accuracy: 0.6368\n",
            "Epoch 44/150\n",
            "20/20 [==============================] - 0s 2ms/step - loss: 0.7172 - accuracy: 0.6270\n",
            "Epoch 45/150\n",
            "20/20 [==============================] - 0s 2ms/step - loss: 0.7157 - accuracy: 0.6515\n",
            "Epoch 46/150\n",
            "20/20 [==============================] - 0s 2ms/step - loss: 0.6926 - accuracy: 0.6401\n",
            "Epoch 47/150\n",
            "20/20 [==============================] - 0s 2ms/step - loss: 0.6840 - accuracy: 0.6547\n",
            "Epoch 48/150\n",
            "20/20 [==============================] - 0s 2ms/step - loss: 0.6704 - accuracy: 0.6645\n",
            "Epoch 49/150\n",
            "20/20 [==============================] - 0s 2ms/step - loss: 0.6955 - accuracy: 0.6384\n",
            "Epoch 50/150\n",
            "20/20 [==============================] - 0s 2ms/step - loss: 0.6734 - accuracy: 0.6498\n",
            "Epoch 51/150\n",
            "20/20 [==============================] - 0s 2ms/step - loss: 0.6634 - accuracy: 0.6564\n",
            "Epoch 52/150\n",
            "20/20 [==============================] - 0s 2ms/step - loss: 0.6592 - accuracy: 0.6629\n",
            "Epoch 53/150\n",
            "20/20 [==============================] - 0s 2ms/step - loss: 0.6621 - accuracy: 0.6743\n",
            "Epoch 54/150\n",
            "20/20 [==============================] - 0s 2ms/step - loss: 0.6571 - accuracy: 0.6466\n",
            "Epoch 55/150\n",
            "20/20 [==============================] - 0s 2ms/step - loss: 0.6513 - accuracy: 0.6564\n",
            "Epoch 56/150\n",
            "20/20 [==============================] - 0s 2ms/step - loss: 0.6513 - accuracy: 0.6645\n",
            "Epoch 57/150\n",
            "20/20 [==============================] - 0s 2ms/step - loss: 0.6546 - accuracy: 0.6629\n",
            "Epoch 58/150\n",
            "20/20 [==============================] - 0s 2ms/step - loss: 0.6928 - accuracy: 0.6629\n",
            "Epoch 59/150\n",
            "20/20 [==============================] - 0s 2ms/step - loss: 0.6701 - accuracy: 0.6352\n",
            "Epoch 60/150\n",
            "20/20 [==============================] - 0s 2ms/step - loss: 0.6380 - accuracy: 0.6775\n",
            "Epoch 61/150\n",
            "20/20 [==============================] - 0s 2ms/step - loss: 0.6444 - accuracy: 0.6580\n",
            "Epoch 62/150\n",
            "20/20 [==============================] - 0s 2ms/step - loss: 0.6520 - accuracy: 0.6384\n",
            "Epoch 63/150\n",
            "20/20 [==============================] - 0s 2ms/step - loss: 0.6468 - accuracy: 0.6596\n",
            "Epoch 64/150\n",
            "20/20 [==============================] - 0s 2ms/step - loss: 0.6449 - accuracy: 0.6596\n",
            "Epoch 65/150\n",
            "20/20 [==============================] - 0s 2ms/step - loss: 0.6419 - accuracy: 0.6580\n",
            "Epoch 66/150\n",
            "20/20 [==============================] - 0s 2ms/step - loss: 0.6633 - accuracy: 0.6661\n",
            "Epoch 67/150\n",
            "20/20 [==============================] - 0s 2ms/step - loss: 0.6357 - accuracy: 0.6775\n",
            "Epoch 68/150\n",
            "20/20 [==============================] - 0s 2ms/step - loss: 0.6223 - accuracy: 0.6857\n",
            "Epoch 69/150\n",
            "20/20 [==============================] - 0s 2ms/step - loss: 0.6324 - accuracy: 0.6775\n",
            "Epoch 70/150\n",
            "20/20 [==============================] - 0s 2ms/step - loss: 0.6263 - accuracy: 0.6678\n",
            "Epoch 71/150\n",
            "20/20 [==============================] - 0s 2ms/step - loss: 0.6462 - accuracy: 0.6694\n",
            "Epoch 72/150\n",
            "20/20 [==============================] - 0s 2ms/step - loss: 0.6302 - accuracy: 0.6726\n",
            "Epoch 73/150\n",
            "20/20 [==============================] - 0s 2ms/step - loss: 0.6416 - accuracy: 0.6808\n",
            "Epoch 74/150\n",
            "20/20 [==============================] - 0s 2ms/step - loss: 0.6040 - accuracy: 0.6906\n",
            "Epoch 75/150\n",
            "20/20 [==============================] - 0s 2ms/step - loss: 0.6250 - accuracy: 0.6906\n",
            "Epoch 76/150\n",
            "20/20 [==============================] - 0s 2ms/step - loss: 0.6523 - accuracy: 0.6759\n",
            "Epoch 77/150\n",
            "20/20 [==============================] - 0s 2ms/step - loss: 0.6178 - accuracy: 0.6922\n",
            "Epoch 78/150\n",
            "20/20 [==============================] - 0s 2ms/step - loss: 0.6684 - accuracy: 0.6645\n",
            "Epoch 79/150\n",
            "20/20 [==============================] - 0s 2ms/step - loss: 0.6249 - accuracy: 0.6824\n",
            "Epoch 80/150\n",
            "20/20 [==============================] - 0s 2ms/step - loss: 0.6524 - accuracy: 0.6384\n",
            "Epoch 81/150\n",
            "20/20 [==============================] - 0s 2ms/step - loss: 0.6133 - accuracy: 0.6840\n",
            "Epoch 82/150\n",
            "20/20 [==============================] - 0s 2ms/step - loss: 0.6598 - accuracy: 0.6384\n",
            "Epoch 83/150\n",
            "20/20 [==============================] - 0s 2ms/step - loss: 0.6107 - accuracy: 0.6775\n",
            "Epoch 84/150\n",
            "20/20 [==============================] - 0s 2ms/step - loss: 0.5941 - accuracy: 0.6873\n",
            "Epoch 85/150\n",
            "20/20 [==============================] - 0s 2ms/step - loss: 0.6034 - accuracy: 0.6710\n",
            "Epoch 86/150\n",
            "20/20 [==============================] - 0s 2ms/step - loss: 0.5949 - accuracy: 0.7052\n",
            "Epoch 87/150\n",
            "20/20 [==============================] - 0s 2ms/step - loss: 0.5946 - accuracy: 0.6824\n",
            "Epoch 88/150\n",
            "20/20 [==============================] - 0s 2ms/step - loss: 0.6112 - accuracy: 0.6824\n",
            "Epoch 89/150\n",
            "20/20 [==============================] - 0s 2ms/step - loss: 0.5875 - accuracy: 0.7068\n",
            "Epoch 90/150\n",
            "20/20 [==============================] - 0s 2ms/step - loss: 0.5901 - accuracy: 0.6954\n",
            "Epoch 91/150\n",
            "20/20 [==============================] - 0s 2ms/step - loss: 0.6366 - accuracy: 0.6857\n",
            "Epoch 92/150\n",
            "20/20 [==============================] - 0s 2ms/step - loss: 0.6003 - accuracy: 0.7068\n",
            "Epoch 93/150\n",
            "20/20 [==============================] - 0s 2ms/step - loss: 0.6099 - accuracy: 0.6987\n",
            "Epoch 94/150\n",
            "20/20 [==============================] - 0s 2ms/step - loss: 0.6007 - accuracy: 0.6857\n",
            "Epoch 95/150\n",
            "20/20 [==============================] - 0s 2ms/step - loss: 0.6143 - accuracy: 0.6417\n",
            "Epoch 96/150\n",
            "20/20 [==============================] - 0s 2ms/step - loss: 0.5856 - accuracy: 0.7020\n",
            "Epoch 97/150\n",
            "20/20 [==============================] - 0s 2ms/step - loss: 0.5792 - accuracy: 0.7085\n",
            "Epoch 98/150\n",
            "20/20 [==============================] - 0s 2ms/step - loss: 0.5639 - accuracy: 0.7264\n",
            "Epoch 99/150\n",
            "20/20 [==============================] - 0s 2ms/step - loss: 0.5754 - accuracy: 0.7150\n",
            "Epoch 100/150\n",
            "20/20 [==============================] - 0s 2ms/step - loss: 0.5802 - accuracy: 0.7085\n",
            "Epoch 101/150\n",
            "20/20 [==============================] - 0s 2ms/step - loss: 0.5661 - accuracy: 0.7166\n",
            "Epoch 102/150\n",
            "20/20 [==============================] - 0s 2ms/step - loss: 0.5586 - accuracy: 0.7166\n",
            "Epoch 103/150\n",
            "20/20 [==============================] - 0s 2ms/step - loss: 0.5610 - accuracy: 0.7182\n",
            "Epoch 104/150\n",
            "20/20 [==============================] - 0s 2ms/step - loss: 0.5746 - accuracy: 0.7215\n",
            "Epoch 105/150\n",
            "20/20 [==============================] - 0s 2ms/step - loss: 0.5688 - accuracy: 0.7329\n",
            "Epoch 106/150\n",
            "20/20 [==============================] - 0s 2ms/step - loss: 0.5656 - accuracy: 0.7231\n",
            "Epoch 107/150\n",
            "20/20 [==============================] - 0s 2ms/step - loss: 0.5612 - accuracy: 0.7313\n",
            "Epoch 108/150\n",
            "20/20 [==============================] - 0s 2ms/step - loss: 0.5573 - accuracy: 0.7280\n",
            "Epoch 109/150\n",
            "20/20 [==============================] - 0s 2ms/step - loss: 0.5773 - accuracy: 0.7150\n",
            "Epoch 110/150\n",
            "20/20 [==============================] - 0s 2ms/step - loss: 0.5508 - accuracy: 0.7378\n",
            "Epoch 111/150\n",
            "20/20 [==============================] - 0s 2ms/step - loss: 0.5466 - accuracy: 0.7362\n",
            "Epoch 112/150\n",
            "20/20 [==============================] - 0s 2ms/step - loss: 0.5475 - accuracy: 0.7394\n",
            "Epoch 113/150\n",
            "20/20 [==============================] - 0s 2ms/step - loss: 0.5548 - accuracy: 0.7280\n",
            "Epoch 114/150\n",
            "20/20 [==============================] - 0s 2ms/step - loss: 0.5564 - accuracy: 0.7199\n",
            "Epoch 115/150\n",
            "20/20 [==============================] - 0s 2ms/step - loss: 0.5498 - accuracy: 0.7492\n",
            "Epoch 116/150\n",
            "20/20 [==============================] - 0s 2ms/step - loss: 0.5485 - accuracy: 0.7068\n",
            "Epoch 117/150\n",
            "20/20 [==============================] - 0s 2ms/step - loss: 0.5439 - accuracy: 0.7394\n",
            "Epoch 118/150\n",
            "20/20 [==============================] - 0s 2ms/step - loss: 0.5598 - accuracy: 0.7068\n",
            "Epoch 119/150\n",
            "20/20 [==============================] - 0s 2ms/step - loss: 0.5529 - accuracy: 0.7345\n",
            "Epoch 120/150\n",
            "20/20 [==============================] - 0s 2ms/step - loss: 0.5446 - accuracy: 0.7329\n",
            "Epoch 121/150\n",
            "20/20 [==============================] - 0s 2ms/step - loss: 0.5469 - accuracy: 0.7394\n",
            "Epoch 122/150\n",
            "20/20 [==============================] - 0s 2ms/step - loss: 0.5387 - accuracy: 0.7329\n",
            "Epoch 123/150\n",
            "20/20 [==============================] - 0s 2ms/step - loss: 0.5460 - accuracy: 0.7378\n",
            "Epoch 124/150\n",
            "20/20 [==============================] - 0s 2ms/step - loss: 0.5618 - accuracy: 0.7378\n",
            "Epoch 125/150\n",
            "20/20 [==============================] - 0s 2ms/step - loss: 0.5451 - accuracy: 0.7280\n",
            "Epoch 126/150\n",
            "20/20 [==============================] - 0s 2ms/step - loss: 0.5420 - accuracy: 0.7296\n",
            "Epoch 127/150\n",
            "20/20 [==============================] - 0s 2ms/step - loss: 0.5388 - accuracy: 0.7264\n",
            "Epoch 128/150\n",
            "20/20 [==============================] - 0s 2ms/step - loss: 0.5450 - accuracy: 0.7329\n",
            "Epoch 129/150\n",
            "20/20 [==============================] - 0s 2ms/step - loss: 0.5448 - accuracy: 0.7345\n",
            "Epoch 130/150\n",
            "20/20 [==============================] - 0s 2ms/step - loss: 0.5484 - accuracy: 0.7215\n",
            "Epoch 131/150\n",
            "20/20 [==============================] - 0s 2ms/step - loss: 0.5348 - accuracy: 0.7280\n",
            "Epoch 132/150\n",
            "20/20 [==============================] - 0s 2ms/step - loss: 0.5384 - accuracy: 0.7248\n",
            "Epoch 133/150\n",
            "20/20 [==============================] - 0s 2ms/step - loss: 0.5489 - accuracy: 0.7362\n",
            "Epoch 134/150\n",
            "20/20 [==============================] - 0s 2ms/step - loss: 0.5492 - accuracy: 0.7362\n",
            "Epoch 135/150\n",
            "20/20 [==============================] - 0s 2ms/step - loss: 0.5551 - accuracy: 0.7182\n",
            "Epoch 136/150\n",
            "20/20 [==============================] - 0s 2ms/step - loss: 0.5510 - accuracy: 0.7362\n",
            "Epoch 137/150\n",
            "20/20 [==============================] - 0s 2ms/step - loss: 0.5379 - accuracy: 0.7313\n",
            "Epoch 138/150\n",
            "20/20 [==============================] - 0s 2ms/step - loss: 0.5404 - accuracy: 0.7427\n",
            "Epoch 139/150\n",
            "20/20 [==============================] - 0s 2ms/step - loss: 0.5506 - accuracy: 0.7541\n",
            "Epoch 140/150\n",
            "20/20 [==============================] - 0s 2ms/step - loss: 0.5646 - accuracy: 0.7215\n",
            "Epoch 141/150\n",
            "20/20 [==============================] - 0s 2ms/step - loss: 0.5537 - accuracy: 0.7248\n",
            "Epoch 142/150\n",
            "20/20 [==============================] - 0s 2ms/step - loss: 0.5352 - accuracy: 0.7264\n",
            "Epoch 143/150\n",
            "20/20 [==============================] - 0s 2ms/step - loss: 0.5419 - accuracy: 0.7215\n",
            "Epoch 144/150\n",
            "20/20 [==============================] - 0s 2ms/step - loss: 0.5521 - accuracy: 0.7313\n",
            "Epoch 145/150\n",
            "20/20 [==============================] - 0s 2ms/step - loss: 0.5361 - accuracy: 0.7362\n",
            "Epoch 146/150\n",
            "20/20 [==============================] - 0s 2ms/step - loss: 0.5550 - accuracy: 0.7215\n",
            "Epoch 147/150\n",
            "20/20 [==============================] - 0s 2ms/step - loss: 0.5654 - accuracy: 0.7215\n",
            "Epoch 148/150\n",
            "20/20 [==============================] - 0s 2ms/step - loss: 0.5332 - accuracy: 0.7508\n",
            "Epoch 149/150\n",
            "20/20 [==============================] - 0s 2ms/step - loss: 0.5393 - accuracy: 0.7410\n",
            "Epoch 150/150\n",
            "20/20 [==============================] - 0s 2ms/step - loss: 0.5480 - accuracy: 0.7166\n"
          ]
        }
      ]
    },
    {
      "cell_type": "code",
      "metadata": {
        "colab": {
          "base_uri": "https://localhost:8080/"
        },
        "id": "XNOYhhs3rZFt",
        "outputId": "d2deada0-bd1b-4dc6-f3dc-275eabeffe5d"
      },
      "source": [
        "_,accurecy_train=model.evaluate(X_train,y_train)\n",
        "_,accurecy_test=model.evaluate(X_test,y_test)\n",
        "print(\"accurecy_train: \", accurecy_train*100)\n",
        "print(\"accurecy_test: \", accurecy_test*100)"
      ],
      "execution_count": 14,
      "outputs": [
        {
          "output_type": "stream",
          "name": "stdout",
          "text": [
            "20/20 [==============================] - 0s 1ms/step - loss: 0.5336 - accuracy: 0.7394\n",
            "5/5 [==============================] - 0s 3ms/step - loss: 0.5670 - accuracy: 0.6818\n",
            "accurecy_train:  73.94136786460876\n",
            "accurecy_test:  68.18181872367859\n"
          ]
        }
      ]
    },
    {
      "cell_type": "markdown",
      "metadata": {
        "id": "IN6mRKhAtZSj"
      },
      "source": [
        "### Plot Accurecy & Lose Curve"
      ]
    },
    {
      "cell_type": "code",
      "metadata": {
        "colab": {
          "base_uri": "https://localhost:8080/",
          "height": 320
        },
        "id": "ER4KRPtXrd-p",
        "outputId": "0f23b62e-db57-4dbc-beaa-9c46b5bbb77b"
      },
      "source": [
        "learning_data = pd.DataFrame(history.history)\n",
        "learning_data.plot(figsize=(10,5))\n",
        "plt.grid(True)\n",
        "plt.show()"
      ],
      "execution_count": 15,
      "outputs": [
        {
          "output_type": "display_data",
          "data": {
            "image/png": "[encoded data removed]",
            "text/plain": [
              "<Figure size 720x360 with 1 Axes>"
            ]
          },
          "metadata": {
            "needs_background": "light"
          }
        }
      ]
    },
    {
      "cell_type": "markdown",
      "metadata": {
        "id": "OTWxETCJs4YU"
      },
      "source": [
        "### Calculate Accurecy & confusion Matrix"
      ]
    },
    {
      "cell_type": "code",
      "metadata": {
        "colab": {
          "base_uri": "https://localhost:8080/",
          "height": 309
        },
        "id": "_laR_dNzs4fl",
        "outputId": "8cb923cf-b97f-4d46-bc63-0fded42f3fb1"
      },
      "source": [
        "from sklearn.metrics import accuracy_score,classification_report,confusion_matrix\n",
        "import sklearn.metrics as metrics\n",
        "y_pred = model.predict(X_test)\n",
        "y_pred = (y_pred > 0.5)\n",
        "plt.figure(figsize=(5,5))\n",
        "cm = metrics.confusion_matrix(y_test, y_pred)\n",
        "accuracy = (cm[0][0]+cm[1][1])/(cm[0][0]+cm[0][1]+cm[1][0]+cm[1][1])\n",
        "sns.heatmap(cm, annot=True, fmt=\".3f\", linewidths=.5, square = True, cmap = 'Blues_r');\n",
        "plt.ylabel('Actual label');\n",
        "plt.xlabel('Predicted label');\n",
        "all_sample_title = 'Accuracy Score: {0}'.format(str(accuracy*100))\n",
        "plt.title(all_sample_title, size = 13);"
      ],
      "execution_count": 16,
      "outputs": [
        {
          "output_type": "display_data",
          "data": {
            "image/png": "[encoded data removed]",
            "text/plain": [
              "<Figure size 360x360 with 2 Axes>"
            ]
          },
          "metadata": {
            "needs_background": "light"
          }
        }
      ]
    },
    {
      "cell_type": "markdown",
      "metadata": {
        "id": "Oac3gsGjrmek"
      },
      "source": [
        "## Three hidden layers with 32, 16, 8 nodes respectively"
      ]
    },
    {
      "cell_type": "code",
      "metadata": {
        "id": "7cAZ_acJrh4q"
      },
      "source": [
        "model = Sequential()\n",
        "# Three hidden layers\n",
        "model.add(Dense(32, activation='relu', input_shape=(8,),name='hidden1'))\n",
        "model.add(Dense(16, activation='relu',name='hidden2'))\n",
        "model.add(Dense(8, activation='relu',name='hidden3'))\n",
        "# output layer\n",
        "model.add(Dense(1, activation='sigmoid',name='output'))"
      ],
      "execution_count": 17,
      "outputs": []
    },
    {
      "cell_type": "code",
      "metadata": {
        "colab": {
          "base_uri": "https://localhost:8080/"
        },
        "id": "XunAdwjsrpHc",
        "outputId": "80335af4-6fb0-4c5d-804b-367d0cefb6e3"
      },
      "source": [
        "model.layers"
      ],
      "execution_count": 18,
      "outputs": [
        {
          "output_type": "execute_result",
          "data": {
            "text/plain": [
              "[<keras.layers.core.dense.Dense at 0x7f512ba8add0>,\n",
              " <keras.layers.core.dense.Dense at 0x7f512945ded0>,\n",
              " <keras.layers.core.dense.Dense at 0x7f512a76c7d0>,\n",
              " <keras.layers.core.dense.Dense at 0x7f512a767650>]"
            ]
          },
          "metadata": {},
          "execution_count": 18
        }
      ]
    },
    {
      "cell_type": "code",
      "metadata": {
        "colab": {
          "base_uri": "https://localhost:8080/"
        },
        "id": "tbnwr7zsrq5d",
        "outputId": "18f2a8f5-1751-40e9-b723-575f1015f5e2"
      },
      "source": [
        "model.compile(loss='binary_crossentropy',\n",
        "              optimizer='adam',\n",
        "              metrics=['accuracy'])\n",
        "# Fit Model                  \n",
        "history=model.fit(X_train, y_train,epochs=150, batch_size=32)"
      ],
      "execution_count": 19,
      "outputs": [
        {
          "output_type": "stream",
          "name": "stdout",
          "text": [
            "Epoch 1/150\n",
            "20/20 [==============================] - 1s 2ms/step - loss: 1.4904 - accuracy: 0.5537\n",
            "Epoch 2/150\n",
            "20/20 [==============================] - 0s 2ms/step - loss: 0.7991 - accuracy: 0.6450\n",
            "Epoch 3/150\n",
            "20/20 [==============================] - 0s 2ms/step - loss: 0.7430 - accuracy: 0.6189\n",
            "Epoch 4/150\n",
            "20/20 [==============================] - 0s 2ms/step - loss: 0.7012 - accuracy: 0.6417\n",
            "Epoch 5/150\n",
            "20/20 [==============================] - 0s 2ms/step - loss: 0.6549 - accuracy: 0.6352\n",
            "Epoch 6/150\n",
            "20/20 [==============================] - 0s 2ms/step - loss: 0.6771 - accuracy: 0.6352\n",
            "Epoch 7/150\n",
            "20/20 [==============================] - 0s 2ms/step - loss: 0.6347 - accuracy: 0.6661\n",
            "Epoch 8/150\n",
            "20/20 [==============================] - 0s 2ms/step - loss: 0.6171 - accuracy: 0.6743\n",
            "Epoch 9/150\n",
            "20/20 [==============================] - 0s 2ms/step - loss: 0.6817 - accuracy: 0.6417\n",
            "Epoch 10/150\n",
            "20/20 [==============================] - 0s 2ms/step - loss: 0.6162 - accuracy: 0.6678\n",
            "Epoch 11/150\n",
            "20/20 [==============================] - 0s 2ms/step - loss: 0.6010 - accuracy: 0.6661\n",
            "Epoch 12/150\n",
            "20/20 [==============================] - 0s 2ms/step - loss: 0.6036 - accuracy: 0.6629\n",
            "Epoch 13/150\n",
            "20/20 [==============================] - 0s 2ms/step - loss: 0.6217 - accuracy: 0.6726\n",
            "Epoch 14/150\n",
            "20/20 [==============================] - 0s 2ms/step - loss: 0.6098 - accuracy: 0.6726\n",
            "Epoch 15/150\n",
            "20/20 [==============================] - 0s 2ms/step - loss: 0.5706 - accuracy: 0.7003\n",
            "Epoch 16/150\n",
            "20/20 [==============================] - 0s 2ms/step - loss: 0.5802 - accuracy: 0.6840\n",
            "Epoch 17/150\n",
            "20/20 [==============================] - 0s 2ms/step - loss: 0.5967 - accuracy: 0.6840\n",
            "Epoch 18/150\n",
            "20/20 [==============================] - 0s 2ms/step - loss: 0.5804 - accuracy: 0.6857\n",
            "Epoch 19/150\n",
            "20/20 [==============================] - 0s 2ms/step - loss: 0.5908 - accuracy: 0.6873\n",
            "Epoch 20/150\n",
            "20/20 [==============================] - 0s 2ms/step - loss: 0.5642 - accuracy: 0.6987\n",
            "Epoch 21/150\n",
            "20/20 [==============================] - 0s 3ms/step - loss: 0.5748 - accuracy: 0.7068\n",
            "Epoch 22/150\n",
            "20/20 [==============================] - 0s 2ms/step - loss: 0.6430 - accuracy: 0.6873\n",
            "Epoch 23/150\n",
            "20/20 [==============================] - 0s 2ms/step - loss: 0.5655 - accuracy: 0.7166\n",
            "Epoch 24/150\n",
            "20/20 [==============================] - 0s 2ms/step - loss: 0.5827 - accuracy: 0.6873\n",
            "Epoch 25/150\n",
            "20/20 [==============================] - 0s 2ms/step - loss: 0.5620 - accuracy: 0.7215\n",
            "Epoch 26/150\n",
            "20/20 [==============================] - 0s 2ms/step - loss: 0.6026 - accuracy: 0.6824\n",
            "Epoch 27/150\n",
            "20/20 [==============================] - 0s 2ms/step - loss: 0.6054 - accuracy: 0.6726\n",
            "Epoch 28/150\n",
            "20/20 [==============================] - 0s 2ms/step - loss: 0.6490 - accuracy: 0.6612\n",
            "Epoch 29/150\n",
            "20/20 [==============================] - 0s 3ms/step - loss: 0.5848 - accuracy: 0.6857\n",
            "Epoch 30/150\n",
            "20/20 [==============================] - 0s 2ms/step - loss: 0.5543 - accuracy: 0.7068\n",
            "Epoch 31/150\n",
            "20/20 [==============================] - 0s 2ms/step - loss: 0.6073 - accuracy: 0.6775\n",
            "Epoch 32/150\n",
            "20/20 [==============================] - 0s 2ms/step - loss: 0.5768 - accuracy: 0.6987\n",
            "Epoch 33/150\n",
            "20/20 [==============================] - 0s 2ms/step - loss: 0.5643 - accuracy: 0.7052\n",
            "Epoch 34/150\n",
            "20/20 [==============================] - 0s 2ms/step - loss: 0.5922 - accuracy: 0.6710\n",
            "Epoch 35/150\n",
            "20/20 [==============================] - 0s 2ms/step - loss: 0.5809 - accuracy: 0.7117\n",
            "Epoch 36/150\n",
            "20/20 [==============================] - 0s 2ms/step - loss: 0.5839 - accuracy: 0.6938\n",
            "Epoch 37/150\n",
            "20/20 [==============================] - 0s 2ms/step - loss: 0.5663 - accuracy: 0.7215\n",
            "Epoch 38/150\n",
            "20/20 [==============================] - 0s 2ms/step - loss: 0.5915 - accuracy: 0.6840\n",
            "Epoch 39/150\n",
            "20/20 [==============================] - 0s 2ms/step - loss: 0.5712 - accuracy: 0.7020\n",
            "Epoch 40/150\n",
            "20/20 [==============================] - 0s 2ms/step - loss: 0.5440 - accuracy: 0.7182\n",
            "Epoch 41/150\n",
            "20/20 [==============================] - 0s 3ms/step - loss: 0.5653 - accuracy: 0.6954\n",
            "Epoch 42/150\n",
            "20/20 [==============================] - 0s 2ms/step - loss: 0.5764 - accuracy: 0.7052\n",
            "Epoch 43/150\n",
            "20/20 [==============================] - 0s 2ms/step - loss: 0.5425 - accuracy: 0.7427\n",
            "Epoch 44/150\n",
            "20/20 [==============================] - 0s 2ms/step - loss: 0.5398 - accuracy: 0.7199\n",
            "Epoch 45/150\n",
            "20/20 [==============================] - 0s 2ms/step - loss: 0.5699 - accuracy: 0.7020\n",
            "Epoch 46/150\n",
            "20/20 [==============================] - 0s 2ms/step - loss: 0.5382 - accuracy: 0.7199\n",
            "Epoch 47/150\n",
            "20/20 [==============================] - 0s 2ms/step - loss: 0.5457 - accuracy: 0.7329\n",
            "Epoch 48/150\n",
            "20/20 [==============================] - 0s 2ms/step - loss: 0.5407 - accuracy: 0.7199\n",
            "Epoch 49/150\n",
            "20/20 [==============================] - 0s 2ms/step - loss: 0.5283 - accuracy: 0.7410\n",
            "Epoch 50/150\n",
            "20/20 [==============================] - 0s 2ms/step - loss: 0.5513 - accuracy: 0.7199\n",
            "Epoch 51/150\n",
            "20/20 [==============================] - 0s 2ms/step - loss: 0.5630 - accuracy: 0.7199\n",
            "Epoch 52/150\n",
            "20/20 [==============================] - 0s 2ms/step - loss: 0.5849 - accuracy: 0.7215\n",
            "Epoch 53/150\n",
            "20/20 [==============================] - 0s 2ms/step - loss: 0.5399 - accuracy: 0.7280\n",
            "Epoch 54/150\n",
            "20/20 [==============================] - 0s 2ms/step - loss: 0.5283 - accuracy: 0.7296\n",
            "Epoch 55/150\n",
            "20/20 [==============================] - 0s 2ms/step - loss: 0.5291 - accuracy: 0.7280\n",
            "Epoch 56/150\n",
            "20/20 [==============================] - 0s 2ms/step - loss: 0.5425 - accuracy: 0.7476\n",
            "Epoch 57/150\n",
            "20/20 [==============================] - 0s 2ms/step - loss: 0.5397 - accuracy: 0.7117\n",
            "Epoch 58/150\n",
            "20/20 [==============================] - 0s 2ms/step - loss: 0.5311 - accuracy: 0.7362\n",
            "Epoch 59/150\n",
            "20/20 [==============================] - 0s 2ms/step - loss: 0.5362 - accuracy: 0.7150\n",
            "Epoch 60/150\n",
            "20/20 [==============================] - 0s 2ms/step - loss: 0.5298 - accuracy: 0.7280\n",
            "Epoch 61/150\n",
            "20/20 [==============================] - 0s 2ms/step - loss: 0.5250 - accuracy: 0.7443\n",
            "Epoch 62/150\n",
            "20/20 [==============================] - 0s 2ms/step - loss: 0.5321 - accuracy: 0.7410\n",
            "Epoch 63/150\n",
            "20/20 [==============================] - 0s 2ms/step - loss: 0.5308 - accuracy: 0.7296\n",
            "Epoch 64/150\n",
            "20/20 [==============================] - 0s 3ms/step - loss: 0.5355 - accuracy: 0.7280\n",
            "Epoch 65/150\n",
            "20/20 [==============================] - 0s 2ms/step - loss: 0.5321 - accuracy: 0.7329\n",
            "Epoch 66/150\n",
            "20/20 [==============================] - 0s 2ms/step - loss: 0.5625 - accuracy: 0.7182\n",
            "Epoch 67/150\n",
            "20/20 [==============================] - 0s 2ms/step - loss: 0.5286 - accuracy: 0.7410\n",
            "Epoch 68/150\n",
            "20/20 [==============================] - 0s 2ms/step - loss: 0.5265 - accuracy: 0.7443\n",
            "Epoch 69/150\n",
            "20/20 [==============================] - 0s 2ms/step - loss: 0.5272 - accuracy: 0.7443\n",
            "Epoch 70/150\n",
            "20/20 [==============================] - 0s 2ms/step - loss: 0.5389 - accuracy: 0.7150\n",
            "Epoch 71/150\n",
            "20/20 [==============================] - 0s 2ms/step - loss: 0.5161 - accuracy: 0.7427\n",
            "Epoch 72/150\n",
            "20/20 [==============================] - 0s 2ms/step - loss: 0.5144 - accuracy: 0.7443\n",
            "Epoch 73/150\n",
            "20/20 [==============================] - 0s 2ms/step - loss: 0.5134 - accuracy: 0.7476\n",
            "Epoch 74/150\n",
            "20/20 [==============================] - 0s 2ms/step - loss: 0.5483 - accuracy: 0.7296\n",
            "Epoch 75/150\n",
            "20/20 [==============================] - 0s 2ms/step - loss: 0.5041 - accuracy: 0.7410\n",
            "Epoch 76/150\n",
            "20/20 [==============================] - 0s 2ms/step - loss: 0.5141 - accuracy: 0.7524\n",
            "Epoch 77/150\n",
            "20/20 [==============================] - 0s 2ms/step - loss: 0.5073 - accuracy: 0.7622\n",
            "Epoch 78/150\n",
            "20/20 [==============================] - 0s 2ms/step - loss: 0.5059 - accuracy: 0.7606\n",
            "Epoch 79/150\n",
            "20/20 [==============================] - 0s 3ms/step - loss: 0.5232 - accuracy: 0.7394\n",
            "Epoch 80/150\n",
            "20/20 [==============================] - 0s 2ms/step - loss: 0.5102 - accuracy: 0.7671\n",
            "Epoch 81/150\n",
            "20/20 [==============================] - 0s 2ms/step - loss: 0.5009 - accuracy: 0.7524\n",
            "Epoch 82/150\n",
            "20/20 [==============================] - 0s 2ms/step - loss: 0.4972 - accuracy: 0.7557\n",
            "Epoch 83/150\n",
            "20/20 [==============================] - 0s 2ms/step - loss: 0.5002 - accuracy: 0.7427\n",
            "Epoch 84/150\n",
            "20/20 [==============================] - 0s 2ms/step - loss: 0.5287 - accuracy: 0.7296\n",
            "Epoch 85/150\n",
            "20/20 [==============================] - 0s 2ms/step - loss: 0.5123 - accuracy: 0.7476\n",
            "Epoch 86/150\n",
            "20/20 [==============================] - 0s 2ms/step - loss: 0.5204 - accuracy: 0.7394\n",
            "Epoch 87/150\n",
            "20/20 [==============================] - 0s 2ms/step - loss: 0.5128 - accuracy: 0.7427\n",
            "Epoch 88/150\n",
            "20/20 [==============================] - 0s 2ms/step - loss: 0.4977 - accuracy: 0.7557\n",
            "Epoch 89/150\n",
            "20/20 [==============================] - 0s 2ms/step - loss: 0.5064 - accuracy: 0.7427\n",
            "Epoch 90/150\n",
            "20/20 [==============================] - 0s 2ms/step - loss: 0.5016 - accuracy: 0.7606\n",
            "Epoch 91/150\n",
            "20/20 [==============================] - 0s 2ms/step - loss: 0.5086 - accuracy: 0.7508\n",
            "Epoch 92/150\n",
            "20/20 [==============================] - 0s 2ms/step - loss: 0.5050 - accuracy: 0.7508\n",
            "Epoch 93/150\n",
            "20/20 [==============================] - 0s 2ms/step - loss: 0.5105 - accuracy: 0.7508\n",
            "Epoch 94/150\n",
            "20/20 [==============================] - 0s 2ms/step - loss: 0.4927 - accuracy: 0.7655\n",
            "Epoch 95/150\n",
            "20/20 [==============================] - 0s 2ms/step - loss: 0.4996 - accuracy: 0.7443\n",
            "Epoch 96/150\n",
            "20/20 [==============================] - 0s 2ms/step - loss: 0.5042 - accuracy: 0.7590\n",
            "Epoch 97/150\n",
            "20/20 [==============================] - 0s 2ms/step - loss: 0.4965 - accuracy: 0.7459\n",
            "Epoch 98/150\n",
            "20/20 [==============================] - 0s 2ms/step - loss: 0.5067 - accuracy: 0.7606\n",
            "Epoch 99/150\n",
            "20/20 [==============================] - 0s 2ms/step - loss: 0.4966 - accuracy: 0.7508\n",
            "Epoch 100/150\n",
            "20/20 [==============================] - 0s 2ms/step - loss: 0.5013 - accuracy: 0.7622\n",
            "Epoch 101/150\n",
            "20/20 [==============================] - 0s 2ms/step - loss: 0.5073 - accuracy: 0.7524\n",
            "Epoch 102/150\n",
            "20/20 [==============================] - 0s 2ms/step - loss: 0.4963 - accuracy: 0.7590\n",
            "Epoch 103/150\n",
            "20/20 [==============================] - 0s 2ms/step - loss: 0.4891 - accuracy: 0.7524\n",
            "Epoch 104/150\n",
            "20/20 [==============================] - 0s 3ms/step - loss: 0.5038 - accuracy: 0.7394\n",
            "Epoch 105/150\n",
            "20/20 [==============================] - 0s 2ms/step - loss: 0.4913 - accuracy: 0.7476\n",
            "Epoch 106/150\n",
            "20/20 [==============================] - 0s 2ms/step - loss: 0.4940 - accuracy: 0.7606\n",
            "Epoch 107/150\n",
            "20/20 [==============================] - 0s 2ms/step - loss: 0.5001 - accuracy: 0.7622\n",
            "Epoch 108/150\n",
            "20/20 [==============================] - 0s 2ms/step - loss: 0.4962 - accuracy: 0.7557\n",
            "Epoch 109/150\n",
            "20/20 [==============================] - 0s 2ms/step - loss: 0.4933 - accuracy: 0.7590\n",
            "Epoch 110/150\n",
            "20/20 [==============================] - 0s 2ms/step - loss: 0.4919 - accuracy: 0.7606\n",
            "Epoch 111/150\n",
            "20/20 [==============================] - 0s 2ms/step - loss: 0.4944 - accuracy: 0.7557\n",
            "Epoch 112/150\n",
            "20/20 [==============================] - 0s 2ms/step - loss: 0.4967 - accuracy: 0.7606\n",
            "Epoch 113/150\n",
            "20/20 [==============================] - 0s 2ms/step - loss: 0.4895 - accuracy: 0.7524\n",
            "Epoch 114/150\n",
            "20/20 [==============================] - 0s 2ms/step - loss: 0.4885 - accuracy: 0.7622\n",
            "Epoch 115/150\n",
            "20/20 [==============================] - 0s 2ms/step - loss: 0.4817 - accuracy: 0.7492\n",
            "Epoch 116/150\n",
            "20/20 [==============================] - 0s 2ms/step - loss: 0.5115 - accuracy: 0.7476\n",
            "Epoch 117/150\n",
            "20/20 [==============================] - 0s 2ms/step - loss: 0.4851 - accuracy: 0.7557\n",
            "Epoch 118/150\n",
            "20/20 [==============================] - 0s 2ms/step - loss: 0.4833 - accuracy: 0.7671\n",
            "Epoch 119/150\n",
            "20/20 [==============================] - 0s 2ms/step - loss: 0.4905 - accuracy: 0.7687\n",
            "Epoch 120/150\n",
            "20/20 [==============================] - 0s 2ms/step - loss: 0.4751 - accuracy: 0.7655\n",
            "Epoch 121/150\n",
            "20/20 [==============================] - 0s 2ms/step - loss: 0.5007 - accuracy: 0.7508\n",
            "Epoch 122/150\n",
            "20/20 [==============================] - 0s 2ms/step - loss: 0.4752 - accuracy: 0.7736\n",
            "Epoch 123/150\n",
            "20/20 [==============================] - 0s 2ms/step - loss: 0.5294 - accuracy: 0.7329\n",
            "Epoch 124/150\n",
            "20/20 [==============================] - 0s 2ms/step - loss: 0.4849 - accuracy: 0.7687\n",
            "Epoch 125/150\n",
            "20/20 [==============================] - 0s 3ms/step - loss: 0.4825 - accuracy: 0.7622\n",
            "Epoch 126/150\n",
            "20/20 [==============================] - 0s 2ms/step - loss: 0.4922 - accuracy: 0.7606\n",
            "Epoch 127/150\n",
            "20/20 [==============================] - 0s 2ms/step - loss: 0.5003 - accuracy: 0.7492\n",
            "Epoch 128/150\n",
            "20/20 [==============================] - 0s 2ms/step - loss: 0.4823 - accuracy: 0.7524\n",
            "Epoch 129/150\n",
            "20/20 [==============================] - 0s 2ms/step - loss: 0.5016 - accuracy: 0.7508\n",
            "Epoch 130/150\n",
            "20/20 [==============================] - 0s 2ms/step - loss: 0.4858 - accuracy: 0.7704\n",
            "Epoch 131/150\n",
            "20/20 [==============================] - 0s 2ms/step - loss: 0.4727 - accuracy: 0.7752\n",
            "Epoch 132/150\n",
            "20/20 [==============================] - 0s 2ms/step - loss: 0.4653 - accuracy: 0.7752\n",
            "Epoch 133/150\n",
            "20/20 [==============================] - 0s 2ms/step - loss: 0.4689 - accuracy: 0.7769\n",
            "Epoch 134/150\n",
            "20/20 [==============================] - 0s 2ms/step - loss: 0.4648 - accuracy: 0.7769\n",
            "Epoch 135/150\n",
            "20/20 [==============================] - 0s 2ms/step - loss: 0.4927 - accuracy: 0.7590\n",
            "Epoch 136/150\n",
            "20/20 [==============================] - 0s 2ms/step - loss: 0.4975 - accuracy: 0.7459\n",
            "Epoch 137/150\n",
            "20/20 [==============================] - 0s 2ms/step - loss: 0.4686 - accuracy: 0.7834\n",
            "Epoch 138/150\n",
            "20/20 [==============================] - 0s 2ms/step - loss: 0.4756 - accuracy: 0.7736\n",
            "Epoch 139/150\n",
            "20/20 [==============================] - 0s 2ms/step - loss: 0.4643 - accuracy: 0.7915\n",
            "Epoch 140/150\n",
            "20/20 [==============================] - 0s 2ms/step - loss: 0.4780 - accuracy: 0.7573\n",
            "Epoch 141/150\n",
            "20/20 [==============================] - 0s 2ms/step - loss: 0.4613 - accuracy: 0.7736\n",
            "Epoch 142/150\n",
            "20/20 [==============================] - 0s 2ms/step - loss: 0.4695 - accuracy: 0.7834\n",
            "Epoch 143/150\n",
            "20/20 [==============================] - 0s 2ms/step - loss: 0.4732 - accuracy: 0.7720\n",
            "Epoch 144/150\n",
            "20/20 [==============================] - 0s 2ms/step - loss: 0.4834 - accuracy: 0.7508\n",
            "Epoch 145/150\n",
            "20/20 [==============================] - 0s 2ms/step - loss: 0.4789 - accuracy: 0.7736\n",
            "Epoch 146/150\n",
            "20/20 [==============================] - 0s 2ms/step - loss: 0.4951 - accuracy: 0.7492\n",
            "Epoch 147/150\n",
            "20/20 [==============================] - 0s 2ms/step - loss: 0.4704 - accuracy: 0.7671\n",
            "Epoch 148/150\n",
            "20/20 [==============================] - 0s 2ms/step - loss: 0.4912 - accuracy: 0.7573\n",
            "Epoch 149/150\n",
            "20/20 [==============================] - 0s 2ms/step - loss: 0.4613 - accuracy: 0.7834\n",
            "Epoch 150/150\n",
            "20/20 [==============================] - 0s 2ms/step - loss: 0.4616 - accuracy: 0.7834\n"
          ]
        }
      ]
    },
    {
      "cell_type": "code",
      "metadata": {
        "colab": {
          "base_uri": "https://localhost:8080/"
        },
        "id": "RLIbnZ9Yr3N6",
        "outputId": "bac3d1b3-1395-4b15-ccf5-080329ee6c57"
      },
      "source": [
        "_,accurecy_train=model.evaluate(X_train,y_train)\n",
        "_,accurecy_test=model.evaluate(X_test,y_test)\n",
        "print(\"accurecy_train: \", accurecy_train*100)\n",
        "print(\"accurecy_test: \", accurecy_test*100)"
      ],
      "execution_count": 20,
      "outputs": [
        {
          "output_type": "stream",
          "name": "stdout",
          "text": [
            "20/20 [==============================] - 0s 1ms/step - loss: 0.4500 - accuracy: 0.7850\n",
            "5/5 [==============================] - 0s 3ms/step - loss: 0.6262 - accuracy: 0.7273\n",
            "accurecy_train:  78.50162982940674\n",
            "accurecy_test:  72.72727489471436\n"
          ]
        }
      ]
    },
    {
      "cell_type": "markdown",
      "metadata": {
        "id": "YcOz3CsntPGh"
      },
      "source": [
        "### Plot Accurecy & Lose Curve\n",
        "\n"
      ]
    },
    {
      "cell_type": "code",
      "metadata": {
        "colab": {
          "base_uri": "https://localhost:8080/",
          "height": 320
        },
        "id": "q6sIKtrGr6Mt",
        "outputId": "b53afa1b-be91-41f3-85c0-b23bc787682d"
      },
      "source": [
        "learning_data = pd.DataFrame(history.history)\n",
        "learning_data.plot(figsize=(10,5))\n",
        "plt.grid(True)\n",
        "plt.show()"
      ],
      "execution_count": 21,
      "outputs": [
        {
          "output_type": "display_data",
          "data": {
            "image/png": "[encoded data removed]",
            "text/plain": [
              "<Figure size 720x360 with 1 Axes>"
            ]
          },
          "metadata": {
            "needs_background": "light"
          }
        }
      ]
    },
    {
      "cell_type": "markdown",
      "metadata": {
        "id": "DvwQRVuAsulX"
      },
      "source": [
        "### Calculate Accurecy & Confusion Matrix"
      ]
    },
    {
      "cell_type": "code",
      "metadata": {
        "colab": {
          "base_uri": "https://localhost:8080/",
          "height": 309
        },
        "id": "6jnJNnBCsZ-k",
        "outputId": "ff8699de-47ad-4ddf-f7b9-90c0919b3bbf"
      },
      "source": [
        "y_pred = model.predict(X_test)\n",
        "y_pred = (y_pred > 0.5)\n",
        "plt.figure(figsize=(5,5))\n",
        "cm = metrics.confusion_matrix(y_test, y_pred)\n",
        "accuracy = (cm[0][0]+cm[1][1])/(cm[0][0]+cm[0][1]+cm[1][0]+cm[1][1])\n",
        "sns.heatmap(cm, annot=True, fmt=\".3f\", linewidths=.5, square = True, cmap = 'Blues_r');\n",
        "plt.ylabel('Actual label');\n",
        "plt.xlabel('Predicted label');\n",
        "all_sample_title = 'Accuracy Score: {0}'.format(str(accuracy*100))\n",
        "plt.title(all_sample_title, size = 13);"
      ],
      "execution_count": 22,
      "outputs": [
        {
          "output_type": "display_data",
          "data": {
            "image/png": "[encoded data removed]",
            "text/plain": [
              "<Figure size 360x360 with 2 Axes>"
            ]
          },
          "metadata": {
            "needs_background": "light"
          }
        }
      ]
    },
    {
      "cell_type": "code",
      "metadata": {
        "id": "P-Bzrs4NseS6"
      },
      "source": [
        ""
      ],
      "execution_count": 48,
      "outputs": []
    }
  ]
}